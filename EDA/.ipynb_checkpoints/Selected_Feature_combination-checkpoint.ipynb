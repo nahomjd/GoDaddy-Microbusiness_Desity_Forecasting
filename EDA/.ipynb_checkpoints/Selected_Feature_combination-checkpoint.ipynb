{
 "cells": [
  {
   "cell_type": "code",
   "execution_count": 1,
   "id": "a6f866a3",
   "metadata": {},
   "outputs": [],
   "source": [
    "import pandas as pd\n",
    "import numpy as np"
   ]
  },
  {
   "cell_type": "code",
   "execution_count": null,
   "id": "9856d134",
   "metadata": {},
   "outputs": [],
   "source": [
    "df_bls = pd.read_excel(r'..\\..\\Go_Daddy_Data\\Data\\Data\\bls-emp_by_cfips.xlsx')\n",
    "df_hc = pd.read_csv('..\\..\\Go_Daddy_Data\\Data\\Data\\RDC_Inventory_Core_Metrics_County_History.csv')\n",
    "#df_rm_FY17 = pd.read_excel(r'..\\..\\Go_Daddy_Data\\Data\\Data\\FY2017_50_rev.xlsx')\n",
    "#df_rm_FY18 = pd.read_excel(r'..\\..\\Go_Daddy_Data\\Data\\Data\\FY2018_50_County_rev.xlsx')\n",
    "df_rm_FY19 = pd.read_excel(r'..\\..\\Go_Daddy_Data\\Data\\Data\\FY2019_50_County_rev.xlsx')\n",
    "df_rm_FY20 = pd.read_excel(r'..\\..\\Go_Daddy_Data\\Data\\Data\\FY2020_50_County_rev.xlsx')\n",
    "df_rm_FY21 = pd.read_excel(r'..\\..\\Go_Daddy_Data\\Data\\Data\\FY2021_50_County.xlsx')\n",
    "df_rm_FY22 = pd.read_excel(r'..\\..\\Go_Daddy_Data\\Data\\Data\\FY2022_FMR_50_county_rev.xlsx')\n",
    "df_rm_FY23 = pd.read_excel(r'..\\..\\Go_Daddy_Data\\Data\\Data\\FY2023_FMR_50_county.xlsx')\n",
    "df_me = pd.read_csv(r'..\\..\\Go_Daddy_Data\\Data\\Data\\Medicare_Monthly_Enrollment_September_2022.csv')\n",
    "\n",
    "df_cs = pd.read_csv('..\\Data\\data_zip\\census_starter.csv')\n",
    "df_test = pd.read_csv(r'..\\Data\\data_zip\\test.csv')\n",
    "df_train = pd.read_csv(r'..\\Data\\data_zip\\train.csv')"
   ]
  },
  {
   "cell_type": "code",
   "execution_count": null,
   "id": "7fd6a68f",
   "metadata": {},
   "outputs": [],
   "source": [
    "df_train['first_day_of_month'] = pd.to_datetime(df_train['first_day_of_month'])\n",
    "df_train['year'] = df_train['first_day_of_month'].dt.year"
   ]
  },
  {
   "cell_type": "code",
   "execution_count": null,
   "id": "b80a57db",
   "metadata": {},
   "outputs": [],
   "source": [
    "df_bls2 = df_bls[df_bls['period'] != 'M13']\n",
    "df_bls2_2 = pd.pivot_table(df_bls2, values='value', index=['cfips', 'first_day_of_month'], columns=['measure_type'], aggfunc=np.sum).reset_index()\n",
    "df_bls2_2['first_day_of_month'] = pd.to_datetime(df_bls2_2['first_day_of_month'])\n",
    "df_bls2_2['first_day_of_month_lag_12'] = df_bls2_2['first_day_of_month'] + pd.DateOffset(months=12)\n",
    "df_bls2_2 = df_bls2_2.drop(columns=['Labor force'])\n",
    "df_train_comb = df_train.merge(df_bls2_2, how='left', left_on=['cfips', 'first_day_of_month'], right_on=['cfips','first_day_of_month_lag_12']\n",
    "                               , suffixes=['_orig', '_bls'])\n",
    "df_train_comb"
   ]
  },
  {
   "cell_type": "code",
   "execution_count": null,
   "id": "6dda4d09",
   "metadata": {},
   "outputs": [],
   "source": [
    "df_cs2 = pd.melt(df_cs, id_vars=['cfips'])\n",
    "df_cs2['Year'] = df_cs2['variable'].str[-4:]\n",
    "df_cs2['variable'] = df_cs2['variable'].str[:-5]\n",
    "df_cs2.sort_values(['cfips']).reset_index(drop=True)\n",
    "df_cs2 = pd.pivot_table(df_cs2, values='value', index=['cfips', 'Year'], columns=['variable'], aggfunc=np.sum).reset_index()\n",
    "df_cs2['year_lag'] = (pd.to_datetime(df_cs2['Year']) + pd.DateOffset(years=2)).dt.year\n",
    "df_cs2 = df_cs2.drop(columns=['median_hh_inc'])\n",
    "df_train_comb = df_train_comb.merge(df_cs2, how='left', left_on=['cfips', 'year'], right_on=['cfips','year_lag'], \n",
    "                              suffixes=['_orig', '_cps'])\n",
    "df_train_comb"
   ]
  },
  {
   "cell_type": "code",
   "execution_count": null,
   "id": "cabe5a7f",
   "metadata": {},
   "outputs": [],
   "source": []
  }
 ],
 "metadata": {
  "kernelspec": {
   "display_name": "Python 3 (ipykernel)",
   "language": "python",
   "name": "python3"
  },
  "language_info": {
   "codemirror_mode": {
    "name": "ipython",
    "version": 3
   },
   "file_extension": ".py",
   "mimetype": "text/x-python",
   "name": "python",
   "nbconvert_exporter": "python",
   "pygments_lexer": "ipython3",
   "version": "3.9.10"
  }
 },
 "nbformat": 4,
 "nbformat_minor": 5
}
